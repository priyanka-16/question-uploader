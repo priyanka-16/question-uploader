{
 "cells": [
  {
   "cell_type": "code",
   "execution_count": 28,
   "id": "d55a7a54-df36-4d05-9a1e-82ef654f9b9b",
   "metadata": {},
   "outputs": [],
   "source": [
    "# pdf_utils.py\n",
    "from pdf2image import convert_from_path\n",
    "from PIL import Image\n",
    "import pytesseract\n",
    "from pytesseract import Output\n",
    "import re\n",
    "from drive_upload import upload_pil_image_to_drive\n",
    "\n",
    "def crop_question(pdf_path, page_num, question_number, poppler_path=None):\n",
    "    images = convert_from_path(pdf_path, dpi=300, first_page=page_num, last_page=page_num, poppler_path=poppler_path)\n",
    "    if not images:\n",
    "        print(\"No image from PDF.\")\n",
    "        return\n",
    "    image = images[0]\n",
    "\n",
    "    ocr = pytesseract.image_to_data(image, output_type=Output.DICT)\n",
    "    print(ocr[\"text\"])\n",
    "    # q_num_pattern = re.compile(rf\"^{question_number}\\.\")\n",
    "    # q_next_num_pattern = re.compile(rf\"^{question_number+1}\\.$\")\n",
    "\n",
    "    # q_index = None\n",
    "    # q_next_index = None\n",
    "\n",
    "    # for i, word in enumerate(ocr[\"text\"]):\n",
    "    #     if q_index is None and q_num_pattern.match(word):\n",
    "    #         q_index = i\n",
    "    #     elif q_next_index is None and q_next_num_pattern.match(word):\n",
    "    #         q_next_index = i\n",
    "\n",
    "    # if q_index is None:\n",
    "    #     print(f\"Question {question_number} not found.\")\n",
    "    #     return\n",
    "\n",
    "    # if q_next_index:\n",
    "    #     left = ocr[\"left\"][q_index] + 50\n",
    "    #     top = ocr[\"top\"][q_index] - 15\n",
    "    #     right = left + 905\n",
    "    #     bottom = ocr[\"top\"][q_next_index] - 15\n",
    "    #     if(bottom > top):\n",
    "    #         cropped = image.crop((left, top, right, bottom))\n",
    "    #     else:\n",
    "    #         bottom = 2955\n",
    "    #         left_next = ocr[\"left\"][q_next_index]\n",
    "    #         top_next = 350\n",
    "    #         right_next = left_next +905\n",
    "    #         bottom_next = ocr[\"top\"][q_next_index] - 15\n",
    "    #         cropped_1 = image.crop((left, top, right, bottom))\n",
    "    #         cropped_2 = image.crop((left_next, top_next, right_next, bottom_next))\n",
    "    #         new_height = cropped_1.height + cropped_2.height\n",
    "    #         cropped = Image.new(\"RGB\", (cropped_1.width, new_height))\n",
    "    #         cropped.paste(cropped_1, (0, 0))\n",
    "    #         cropped.paste(cropped_2, (0, cropped_1.height))\n",
    "    #         cropped.save(r\"C:\\Users\\Aayush Gajwani\\Pictures\\Screenshots\\test.png\")\n"
   ]
  },
  {
   "cell_type": "code",
   "execution_count": 29,
   "id": "2a452d1a-4883-47fe-a327-6cee9c6530ce",
   "metadata": {},
   "outputs": [
    {
     "name": "stdout",
     "output_type": "stream",
     "text": [
      "['', '', '', '', '59', '', 'Kinetic', 'Theory', '', '', '', ' ', '', '', '', ' ', '', '', '', ' ', '', '', '', ' ', '', '', '', ' ', '', '', '', ' ', '', '', '', ' ', '', '', '', ' ', '', '', '', '23.', 'To', 'decrease', 'the', 'pressure', 'of', 'a', 'gas', 'by', '2%', 'at', 'constant', '~B.', '|', 'Molar', 'specific', 'heat', 'of', 'oxygen', '|', '(ii)', '|', '7', '', 'temperature,', 'the', 'volume', 'should', 'be', 'at', 'constant', 'volume', '_R', '', '(a)', 'increased', 'by', '20%', '(b)', 'decreased', 'by', '20%', '2', '', '(c)', 'increased', 'by', '25%', '(d)', 'decreased', 'by', '25%', 'C.', '|Molar', 'specific', 'heat', 'of', '|', '(iii)', '3', '', '24.', 'At', 'what', 'temperature', 'the', 'kinetic', 'energy', 'of', 'a', 'gas', 'carbondioxide', 'at', 'constant', '3', '', 'molecule', 'is', 'half', 'of', 'the', 'value', 'at', '27°C?', 'volume', '', '(a)', '13.5°C', 'oy', '150°C', '(c)', '-123°C', '(d)', '13.5K', 'D.', '|Molar', 'specific', 'heat', 'of', 'iv)', '5', '', '25.', 'If', 'a', 'quantity', 'of', 'heat', '1163.4', 'joule', 'is', 'supplied', 'to', 'hydrogen', 'at', 'constant', 'aR', '', 'one', 'mole', 'of', 'nitrogen', 'gas,', 'at', 'room', 'temperature', 'at', 'pressure', '', 'constant', 'pressure,', 'then', 'the', 'rise', 'in', 'temperature', 'is', '_', '', '(Given', 'R', '=', '8.31J', 'mol', '!', 'K', '!)', '(a)', 'A', '-', '(i),', 'B', '-', '(ii),', 'C', '-', '(iii),', 'D', '-', '(iv)', '', '(a)', '54K', '(b)', '28K', '(b)', 'A', '-', '(ii),', 'B', '—', '(iii),', 'C', '-', '(iv),', 'D', '-', '(i)', '', '(c)', '40K', '(d)', '8K', '(c)', 'A', '-', '(iii),', 'B', '-', '(iv),', 'C', '-', '(i),', 'D', '-', '(ii)', '', '', '', '26.', 'A', 'cyclic', 'process', 'ABCA', 'is', 'shown', '(d)', 'A', '~', '(iv),', 'B', '-', '(i),', 'C', '-', '(ii),', 'D', '-', '(iii)', '', '', '', 'in', 'V', '-', 'T', 'diagram,', 'is', 'performed', '', 'with', 'a', 'constant', 'mass', 'of', 'an', 'ideal', '', 'gas.', 'Which', 'of', 'the', 'following', '', 'graphs', 'in', 'figure', 'represents', 'the', '', '', '', '.', 'Two', 'identical', 'containers', 'A', 'and', 'B', 'with', 'frictionless', '', 'pistons', 'contain', 'the', 'same', 'ideal', 'gas', 'at', 'the', 'same', '', 'temperature', 'and', 'the', 'same', 'volume', 'V.', 'The', 'mass', 'of', '', 'gas', 'in', 'A', 'is', 'm,', 'and', 'that', 'in', 'B', 'is', 'mg.', 'The', 'gases', 'in', 'each', '', '', '', ' ', '', '', '', 'corresponding', 'process', 'on', 'a', 'P-', 'V', 'cylinder', 'are', 'now', 'allowed', 'to', 'expand', 'isothermally', 'to', '', '', 'diagram.', 'the', 'same', 'final', 'volume', '2V.', 'The', 'changes', 'in', 'pressure', 'in', '', 'A', 'and', 'B', 'are', 'found', 'to', 'be', 'AP', 'and', '1.5', 'AP', 'respectively.', '', 'Then', '', '', '(a)', '(a)', '4m,', '=9', 'mp', '(b)', '2', 'm4', '=3', 'mg', '', '(c)', '3m,=2', 'mp', '(d)', '9m,=4', 'mp', '', '', '', '29.', 'Two', 'balloonsare', 'filled,', 'one', 'with', 'pure', 'He', 'gas', 'and', 'other', '', ';', ';', 'by', 'air,', 'respectively.', 'If', 'the', 'pressure', 'and', 'temperature', 'of', '', '(c)', 'these', 'balloons', 'are', 'same,', 'then', 'the', 'number', 'of', 'molecules', '', '.', '=I', '=', 'per', 'unit', 'volume', 'is', '', '(a)', 'more', 'in', 'the', 'He', 'filled', 'balloon', '', '(b)', 'same', 'in', 'both', 'balloons', '', '', '', '27.', 'Match', 'the', 'column', 'I', 'with', 'column', 'II.', '(c)', 'more', 'in', 'air', 'filled', 'balloon', '', '|', '(d)', 'in', 'the', 'ratio', 'of', '1:', '4', '', '', '', ' ', '', '', '', ' ', '', '', '', 'Column', '|', 'Column', 'II', '', '', '', ' ', '', '', '', '30.', 'A', 'gas', 'is', 'suddenly', 'compressed', 'to', '1/4‘', 'of', 'its', 'original', '', '', 'A.', '|', 'Molar', 'specific', 'heat', 'ofhelium', '|', '(i)', '|', '3R', 'volume.', 'Find', 'the', 'rise', 'in', 'temperature,', 'the', 'original', '', 'gas', 'at', 'constant', 'volume', 'temperature', 'being', '27°C', 'and', 'y', '=', '1.5.', '', '', '_._', 'AEAEa.H', 'Isis', 'constant)', '|', '|', '(a)', '200K', '(b)', '300K', '(c)', '500K', '(d)', '600K', '', '', '', ' ', '', '', '', ' ', '', '', '', ' ', '', '', '', 'SOLUTIONS', '(HOME', 'ASSIGNMENT)', ':', '', '', '', ' ', '', '', '', '1,', 'd):', '=', 'Le', '5', 'iti', '=', 'a', '=', 'i', '=', '', '(d):', 'PV', 'ag', 'RF', '-', 'Initially,', 'PY', '=', '<7', 'R', 'x', '500', 'or', '1.01', 'a7', 'or', 'T,=100K', '', '', 'P', '(6', '—', 'x)', '‘', '', '', '=', 'V', '=~——', 'Rx', '300', '(if:', 'as', 'leaks', 'out', '™.', '', '', '2', 'M', 'aig', 'Eales', '4.', ' (c)', ':', 'No.', 'of', 'moles', 'in', 'gas', '1,', 'nm,', '=', 'va', '', '', 'Hence,', '2=', '<2', 'x3', 'ox=lg', 'My', ',', '', '~*', 'No.', 'of', 'moles', 'in', 'gas', '2,', '1;', '=', ',', '', '', '2.', '(a):', 'Number', 'of', 'moles', 'of', 'gas', 'in', 'two', 'flasks', 'are', '2', '', '', '', 'BV,', 'BV,', 'As', 'there', 'is', 'no', 'loss', 'of', 'energy,', 'the', 'final', 'temperature', 'of', 'the', '', '=)', 'and', 'n,', '=~', '', '', '', '*', 'RT', '2°', 'RT', 'mixture', 'is', '', '-', 'nemtm', '«', 'po', 'ltnRT', '_', 'PV', '+', 'PV', 'My', '', 'Vi+V,', 'V,+V2', 'rant', 'ie', '+2', '', '3.', '(a):', 'Here,', 'volume', 'of', 'the', 'gas', 'is', 'constant.', 'T', 'Mth,', 'AY', '', '', '', ' ', '', '', '', 'BD', '|.', 'B+001R', '7', '+1', 'mee', 'tm,', 'my', '', 'BR', 'YT,', 'Pp,', 'T,', 'M,', 'M,']\n"
     ]
    }
   ],
   "source": [
    "crop_question(r'C:\\Users\\Aayush Gajwani\\Downloads\\Agent\\QBagent\\pdfs\\kinetic_theory.pdf',3,30,r\"C:\\Users\\Aayush Gajwani\\Downloads\\Release-24.08.0-0\\poppler-24.08.0\\Library\\bin\")"
   ]
  },
  {
   "cell_type": "code",
   "execution_count": null,
   "id": "7fad8209-2333-41e4-a5a9-e4f1b4318bc7",
   "metadata": {},
   "outputs": [],
   "source": []
  },
  {
   "cell_type": "code",
   "execution_count": 38,
   "id": "1311bbee-2dd4-4b29-b116-07a1e9f30c6e",
   "metadata": {},
   "outputs": [
    {
     "name": "stdout",
     "output_type": "stream",
     "text": [
      "326\n"
     ]
    }
   ],
   "source": [
    "from pdf2image import convert_from_path\n",
    "from PIL import Image\n",
    "import pytesseract\n",
    "from pytesseract import Output\n",
    "import re\n",
    "from drive_upload import upload_pil_image_to_drive\n",
    "\n",
    "def crop_question(pdf_path, page_num, question_number, poppler_path=None):\n",
    "    images = convert_from_path(pdf_path, dpi=300, first_page=page_num, last_page=page_num, poppler_path=poppler_path)\n",
    "    if not images:\n",
    "        print(\"No image from PDF.\")\n",
    "        return\n",
    "    image = images[0]\n",
    "\n",
    "    ocr = pytesseract.image_to_data(image, output_type=Output.DICT)\n",
    "    # q_num_pattern = re.compile(rf\"^{question_number}\\.\")\n",
    "    # q_next_num_pattern = re.compile(rf\"^{question_number+1}\\.$\")\n",
    "\n",
    "    # q_index = None\n",
    "    # q_next_index = None\n",
    "    #print(ocr)\n",
    "    for i, word in enumerate(ocr[\"text\"]):\n",
    "    #     if q_index is None and q_num_pattern.match(word):\n",
    "    #         q_index = i\n",
    "          if word == \"1.\":\n",
    "              w_index = i\n",
    "    print(ocr[\"left\"][w_index])\n",
    "        \n",
    "    #     #     print(f\"q_index={q_index}\")\n",
    "    #     # elif q_next_index is None and q_next_num_pattern.match(word):\n",
    "    #     #     q_next_index = i\n",
    "    #     #     print(f\"q_next_index={q_next_index}\")\n",
    "\n",
    "    # if q_index is None:\n",
    "    #     print(f\"Question {question_number} not found.\")\n",
    "    #     return\n",
    "\n",
    "    # print(ocr['left'][q_index])\n",
    "    # # print(ocr['left'][q_next_index])\n",
    "    # print(ocr['top'][q_index])\n",
    "    # print(ocr['top'][w_index])\n",
    "\n",
    "crop_question(r'C:\\Users\\Aayush Gajwani\\Downloads\\Gravitation.pdf',9,30,r\"C:\\Users\\Aayush Gajwani\\Downloads\\Release-24.08.0-0\\poppler-24.08.0\\Library\\bin\")"
   ]
  },
  {
   "cell_type": "code",
   "execution_count": null,
   "id": "63202f8d-82e6-4786-b49d-2830d355568f",
   "metadata": {},
   "outputs": [],
   "source": []
  }
 ],
 "metadata": {
  "kernelspec": {
   "display_name": "Python 3 (ipykernel)",
   "language": "python",
   "name": "python3"
  },
  "language_info": {
   "codemirror_mode": {
    "name": "ipython",
    "version": 3
   },
   "file_extension": ".py",
   "mimetype": "text/x-python",
   "name": "python",
   "nbconvert_exporter": "python",
   "pygments_lexer": "ipython3",
   "version": "3.12.3"
  }
 },
 "nbformat": 4,
 "nbformat_minor": 5
}
